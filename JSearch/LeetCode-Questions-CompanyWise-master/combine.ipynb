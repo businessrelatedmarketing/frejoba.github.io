{
 "cells": [
  {
   "cell_type": "code",
   "execution_count": 44,
   "metadata": {},
   "outputs": [],
   "source": [
    "import pandas as pd\n",
    "import glob\n",
    "\n",
    "# Path to the directory containing your Excel files\n",
    "excel_files_path = 'C:/Users/ronniegandhi/OneDrive - Microsoft/Documents/codemycareer.github.io/JSearch/LeetCode-Questions-CompanyWise-master/*.csv'  # Adjust the path pattern as needed\n",
    "\n",
    "# List to store DataFrames from each Excel sheet\n",
    "dfs = []"
   ]
  },
  {
   "cell_type": "code",
   "execution_count": 45,
   "metadata": {},
   "outputs": [],
   "source": [
    "# Iterate over all Excel files in the directory\n",
    "for file_path in glob.glob(excel_files_path):\n",
    "    # Read each Excel sheet into a DataFrame\n",
    "    df = pd.read_csv(file_path)\n",
    "    \n",
    "    # Add a new column for the file name\n",
    "    df['Company'] = file_path.split(\"\\\\\")[-1].split(\"_\")[0]  # Extracting the file name from the path\n",
    "\n",
    "    # Append the DataFrame to the list\n",
    "    dfs.append(df)"
   ]
  },
  {
   "cell_type": "code",
   "execution_count": 46,
   "metadata": {},
   "outputs": [
    {
     "data": {
      "text/plain": [
       "537"
      ]
     },
     "execution_count": 46,
     "metadata": {},
     "output_type": "execute_result"
    }
   ],
   "source": [
    "len(dfs)"
   ]
  },
  {
   "cell_type": "code",
   "execution_count": 47,
   "metadata": {},
   "outputs": [],
   "source": [
    "# Concatenate all DataFrames into a single DataFrame\n",
    "result_df = pd.concat(dfs, ignore_index=True)\n",
    "\n",
    "result_df = result_df.drop(columns=['ID'], errors='ignore')\n",
    "\n",
    "result_df = result_df.drop_duplicates()\n",
    "\n",
    "# Save the result to a new Excel file\n",
    "result_df.to_csv('./../LCQ_1.csv', index=False)"
   ]
  },
  {
   "cell_type": "code",
   "execution_count": null,
   "metadata": {},
   "outputs": [],
   "source": []
  }
 ],
 "metadata": {
  "kernelspec": {
   "display_name": "Python 3",
   "language": "python",
   "name": "python3"
  },
  "language_info": {
   "codemirror_mode": {
    "name": "ipython",
    "version": 3
   },
   "file_extension": ".py",
   "mimetype": "text/x-python",
   "name": "python",
   "nbconvert_exporter": "python",
   "pygments_lexer": "ipython3",
   "version": "3.12.1"
  }
 },
 "nbformat": 4,
 "nbformat_minor": 2
}
